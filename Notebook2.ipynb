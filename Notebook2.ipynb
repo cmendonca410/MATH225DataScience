{
  "nbformat": 4,
  "nbformat_minor": 0,
  "metadata": {
    "kernelspec": {
      "display_name": "Python 3",
      "language": "python",
      "name": "python3"
    },
    "language_info": {
      "codemirror_mode": {
        "name": "ipython",
        "version": 3
      },
      "file_extension": ".py",
      "mimetype": "text/x-python",
      "name": "python",
      "nbconvert_exporter": "python",
      "pygments_lexer": "ipython3",
      "version": "3.7.6"
    },
    "colab": {
      "name": "Notebook2.ipynb",
      "provenance": [],
      "toc_visible": true
    }
  },
  "cells": [
    {
      "cell_type": "markdown",
      "metadata": {
        "id": "aZ5LEy64p3l8",
        "colab_type": "text"
      },
      "source": [
        "# **Module 2: Python Fundamental**\n",
        "## **Notebook 2**: Basic Python\n",
        "## **Prepared by**: Hum Nath Bhandari, Department of Mathematics, RWU\n",
        "\n"
      ]
    },
    {
      "cell_type": "markdown",
      "metadata": {
        "id": "wqeB1QS2Onf-",
        "colab_type": "text"
      },
      "source": [
        "\n",
        "##**Learning Outcomes**\n",
        "\n",
        "In this notebook, we intrtroduce basic data structures and operations in Python. Topics includes:\n",
        "\n",
        "- Printing in Python\n",
        "\n",
        "- Python as a Calculator\n",
        "\n",
        "- Creating variables in python\n",
        "\n",
        "- Reserved Keywords for Python\n",
        "\n",
        "- Basic python data structures: numbers, boolean, strings, list, tuple, dictionary\n",
        "\n",
        "- Writing user defined functins in python\n",
        "\n",
        "- Random numbers generators\n",
        "\n",
        "- Conditional statements\n",
        "\n",
        "- Loop operations in python\n",
        "\n",
        "- Formattig in Python\n",
        "\n",
        "- Reading and Writing Files in Python"
      ]
    },
    {
      "cell_type": "markdown",
      "metadata": {
        "id": "PoJVy1AZQOo0",
        "colab_type": "text"
      },
      "source": [
        "## **Printing in Python**"
      ]
    },
    {
      "cell_type": "code",
      "metadata": {
        "id": "KedgYfH5ZoT1",
        "colab_type": "code",
        "colab": {}
      },
      "source": [
        "print('Lets learn Python Basics!')\n",
        "#print(\"\\n\") # printing blank line\n",
        "#print(\"Python is incredible!!\")"
      ],
      "execution_count": null,
      "outputs": []
    },
    {
      "cell_type": "markdown",
      "metadata": {
        "id": "wFh4jR9cp3m6",
        "colab_type": "text"
      },
      "source": [
        "## **Python as a Calculator**"
      ]
    },
    {
      "cell_type": "code",
      "metadata": {
        "id": "ui7CNv0Tp3m7",
        "colab_type": "code",
        "colab": {}
      },
      "source": [
        "#Addition and Subtraction\n",
        "\n",
        "7 + 9\n"
      ],
      "execution_count": null,
      "outputs": []
    },
    {
      "cell_type": "code",
      "metadata": {
        "id": "AEvLZ10ep3nI",
        "colab_type": "code",
        "colab": {}
      },
      "source": [
        "6+ 7*8"
      ],
      "execution_count": null,
      "outputs": []
    },
    {
      "cell_type": "code",
      "metadata": {
        "id": "S4YV2K9tp3nP",
        "colab_type": "code",
        "colab": {}
      },
      "source": [
        "(50 - 5*6) / 4"
      ],
      "execution_count": null,
      "outputs": []
    },
    {
      "cell_type": "code",
      "metadata": {
        "id": "ZEezmuqHp3nX",
        "colab_type": "code",
        "colab": {}
      },
      "source": [
        "22 / 7  #classic division returns a float"
      ],
      "execution_count": null,
      "outputs": []
    },
    {
      "cell_type": "code",
      "metadata": {
        "id": "ynA8B0R0p3nj",
        "colab_type": "code",
        "colab": {}
      },
      "source": [
        "22//7  # floor division discards the fractional part"
      ],
      "execution_count": null,
      "outputs": []
    },
    {
      "cell_type": "code",
      "metadata": {
        "id": "ZAFzJCy-p3nt",
        "colab_type": "code",
        "colab": {}
      },
      "source": [
        " 3**2  # squared"
      ],
      "execution_count": null,
      "outputs": []
    },
    {
      "cell_type": "code",
      "metadata": {
        "id": "qosq81m3p3n3",
        "colab_type": "code",
        "colab": {}
      },
      "source": [
        "10%2 # reminder operation  \n"
      ],
      "execution_count": null,
      "outputs": []
    },
    {
      "cell_type": "code",
      "metadata": {
        "scrolled": true,
        "id": "lqJLSNb8p3n_",
        "colab_type": "code",
        "colab": {}
      },
      "source": [
        "13%3"
      ],
      "execution_count": null,
      "outputs": []
    },
    {
      "cell_type": "markdown",
      "metadata": {
        "id": "qg_NDmNip3oM",
        "colab_type": "text"
      },
      "source": [
        "### **Order of Operations**\n",
        " \n",
        " \n",
        "Python follows **PEMDAS(P = parenthesis, E = exponent, M = multiplication, D= Division, A= Addition, S= Subtraction)** convention of Mathematics.\n"
      ]
    },
    {
      "cell_type": "code",
      "metadata": {
        "id": "ske2ynvWp3oO",
        "colab_type": "code",
        "colab": {}
      },
      "source": [
        "2*(3-1) "
      ],
      "execution_count": null,
      "outputs": []
    },
    {
      "cell_type": "code",
      "metadata": {
        "id": "VfC0WFtVp3oi",
        "colab_type": "code",
        "colab": {}
      },
      "source": [
        "(1+1)**(5-2)"
      ],
      "execution_count": null,
      "outputs": []
    },
    {
      "cell_type": "code",
      "metadata": {
        "id": "XDAu-JMlp3or",
        "colab_type": "code",
        "colab": {}
      },
      "source": [
        "2**1+1 #is not 4 "
      ],
      "execution_count": null,
      "outputs": []
    },
    {
      "cell_type": "code",
      "metadata": {
        "id": "INndhjzfp3oz",
        "colab_type": "code",
        "colab": {}
      },
      "source": [
        "3*1**3 # is not 27"
      ],
      "execution_count": null,
      "outputs": []
    },
    {
      "cell_type": "code",
      "metadata": {
        "id": "JdSVkrXzp3o6",
        "colab_type": "code",
        "colab": {}
      },
      "source": [
        "6+4/2 # is not 5"
      ],
      "execution_count": null,
      "outputs": []
    },
    {
      "cell_type": "code",
      "metadata": {
        "id": "DCQZjY5bp3o_",
        "colab_type": "code",
        "colab": {}
      },
      "source": [
        ""
      ],
      "execution_count": null,
      "outputs": []
    },
    {
      "cell_type": "markdown",
      "metadata": {
        "id": "5iEeWyGbp3pG",
        "colab_type": "text"
      },
      "source": [
        "## **Variables Names**\n",
        "\n",
        "Python variable names can be arbitrary long. They may contain both letters and numbers but they have to begin with a letter. Underscore character ( _ ) can be used. We cannot use special characters such as @,$, &, etc while defining variables.\n"
      ]
    },
    {
      "cell_type": "code",
      "metadata": {
        "id": "Ot1iZcIXp3pH",
        "colab_type": "code",
        "colab": {}
      },
      "source": [
        "#Illegal variables\n",
        "12my_variable, more@\n",
        "\n"
      ],
      "execution_count": null,
      "outputs": []
    },
    {
      "cell_type": "code",
      "metadata": {
        "id": "HVvM9oP-p3pO",
        "colab_type": "code",
        "colab": {}
      },
      "source": [
        "#Legal variables\n",
        "var = 12\n",
        "second_var_123 = 89\n",
        "\n",
        "\n"
      ],
      "execution_count": null,
      "outputs": []
    },
    {
      "cell_type": "code",
      "metadata": {
        "id": "0tPAHJ3Tp3pX",
        "colab_type": "code",
        "colab": {}
      },
      "source": [
        "width = 40  \n",
        "length = 5\n",
        "Area = width * length\n",
        "Area\n"
      ],
      "execution_count": null,
      "outputs": []
    },
    {
      "cell_type": "markdown",
      "metadata": {
        "id": "1MZYs2Bbp3pm",
        "colab_type": "text"
      },
      "source": [
        "## **Reserved Keywords for Python**\n",
        "\n",
        "There are few words which are reserved for Python language. Therefore, users should aviod using these researve words. \n",
        "\n",
        "**Reserved worlds: and, del, from, not, while, as, elif, global, or, with, assert, else, if, pass, yield, break, except, import, print, class, exec, raise, continue, finally, is, return, def, for, lambda,  try, in**, etc\n",
        "\n",
        "\n",
        "\n"
      ]
    },
    {
      "cell_type": "code",
      "metadata": {
        "id": "CgsXBNYJp3po",
        "colab_type": "code",
        "colab": {}
      },
      "source": [
        "and "
      ],
      "execution_count": null,
      "outputs": []
    },
    {
      "cell_type": "markdown",
      "metadata": {
        "id": "Y49A11Vyp3ps",
        "colab_type": "text"
      },
      "source": [
        "## **Basic Python Variable Types**\n",
        "\n",
        "There are several variable types in Python. Here is a list of the most common types:"
      ]
    },
    {
      "cell_type": "markdown",
      "metadata": {
        "id": "FYMuKUbWp3pt",
        "colab_type": "text"
      },
      "source": [
        "\n",
        "- **int**:  integer\n",
        "- **float**: floating point numbers (decimal numbers)\n",
        "- **complex**: complex numbers\n",
        "- **bool**: Boolean types (True, False)\n",
        "- **str**: String \n"
      ]
    },
    {
      "cell_type": "markdown",
      "metadata": {
        "id": "Qjzan0mw6Q-_",
        "colab_type": "text"
      },
      "source": [
        ""
      ]
    },
    {
      "cell_type": "code",
      "metadata": {
        "id": "enQ4tem2p3pu",
        "colab_type": "code",
        "colab": {}
      },
      "source": [
        "#integer\n",
        "\n",
        "type(13)\n"
      ],
      "execution_count": null,
      "outputs": []
    },
    {
      "cell_type": "code",
      "metadata": {
        "id": "h2poLxchp3py",
        "colab_type": "code",
        "colab": {}
      },
      "source": [
        "#float (decimal numbers) \n",
        "type(10.5)"
      ],
      "execution_count": null,
      "outputs": []
    },
    {
      "cell_type": "code",
      "metadata": {
        "id": "zuVbjegbp3p3",
        "colab_type": "code",
        "colab": {}
      },
      "source": [
        "#complex number\n",
        "type(5j)"
      ],
      "execution_count": null,
      "outputs": []
    },
    {
      "cell_type": "code",
      "metadata": {
        "id": "V3Gs1wjjp3p9",
        "colab_type": "code",
        "colab": {}
      },
      "source": [
        "complex(2,3)"
      ],
      "execution_count": null,
      "outputs": []
    },
    {
      "cell_type": "code",
      "metadata": {
        "id": "0m2OIpQ0p3qA",
        "colab_type": "code",
        "colab": {}
      },
      "source": [
        "z = 2-3j"
      ],
      "execution_count": null,
      "outputs": []
    },
    {
      "cell_type": "code",
      "metadata": {
        "id": "4cUo1AVtp3qG",
        "colab_type": "code",
        "colab": {}
      },
      "source": [
        "z.real"
      ],
      "execution_count": null,
      "outputs": []
    },
    {
      "cell_type": "code",
      "metadata": {
        "id": "ne5gClatp3qJ",
        "colab_type": "code",
        "colab": {}
      },
      "source": [
        "z.imag"
      ],
      "execution_count": null,
      "outputs": []
    },
    {
      "cell_type": "code",
      "metadata": {
        "id": "hjLj41zcp3qO",
        "colab_type": "code",
        "colab": {}
      },
      "source": [
        "#Boolean\n",
        "a = True\n",
        "type(a)"
      ],
      "execution_count": null,
      "outputs": []
    },
    {
      "cell_type": "code",
      "metadata": {
        "id": "9k77EHgsp3qT",
        "colab_type": "code",
        "colab": {}
      },
      "source": [
        "9#help(str)\n"
      ],
      "execution_count": null,
      "outputs": []
    },
    {
      "cell_type": "markdown",
      "metadata": {
        "id": "fwNrh2anp3qV",
        "colab_type": "text"
      },
      "source": [
        "### **String**\n",
        "Besides numbers, Python can also manipulate strings, which can be expressed in several ways. They can be enclosed in single quotes ('  ') or double quotes (\" \") with the same result."
      ]
    },
    {
      "cell_type": "code",
      "metadata": {
        "id": "DvpdG1XIp3qW",
        "colab_type": "code",
        "colab": {}
      },
      "source": [
        "course_name = 'Data Science' "
      ],
      "execution_count": null,
      "outputs": []
    },
    {
      "cell_type": "code",
      "metadata": {
        "id": "Bvl9H1lcp3qZ",
        "colab_type": "code",
        "colab": {}
      },
      "source": [
        "semester = 'Fall 2020' "
      ],
      "execution_count": null,
      "outputs": []
    },
    {
      "cell_type": "code",
      "metadata": {
        "id": "9bz9Ugiop3qd",
        "colab_type": "code",
        "colab": {}
      },
      "source": [
        "myclass = course_name + ' ' + semester"
      ],
      "execution_count": null,
      "outputs": []
    },
    {
      "cell_type": "code",
      "metadata": {
        "id": "brb62G_fp3qh",
        "colab_type": "code",
        "colab": {}
      },
      "source": [
        "myclass\n"
      ],
      "execution_count": null,
      "outputs": []
    },
    {
      "cell_type": "code",
      "metadata": {
        "id": "M4nTCaMkp3qk",
        "colab_type": "code",
        "colab": {}
      },
      "source": [
        "type(myclass)"
      ],
      "execution_count": null,
      "outputs": []
    },
    {
      "cell_type": "code",
      "metadata": {
        "id": "GIdZE9SCp3qm",
        "colab_type": "code",
        "colab": {}
      },
      "source": [
        "myclass[0] # to access first character of the string "
      ],
      "execution_count": null,
      "outputs": []
    },
    {
      "cell_type": "code",
      "metadata": {
        "id": "BETvL8VHp3qq",
        "colab_type": "code",
        "colab": {}
      },
      "source": [
        "myclass[:]\n"
      ],
      "execution_count": null,
      "outputs": []
    },
    {
      "cell_type": "code",
      "metadata": {
        "id": "V-UsK_T-p3qt",
        "colab_type": "code",
        "colab": {}
      },
      "source": [
        "myclass[:-1]"
      ],
      "execution_count": null,
      "outputs": []
    },
    {
      "cell_type": "code",
      "metadata": {
        "id": "Ws6C7VmQp3qw",
        "colab_type": "code",
        "colab": {}
      },
      "source": [
        "myclass[-1]"
      ],
      "execution_count": null,
      "outputs": []
    },
    {
      "cell_type": "code",
      "metadata": {
        "id": "x-LsqcXBp3q7",
        "colab_type": "code",
        "colab": {}
      },
      "source": [
        "myclass + myclass"
      ],
      "execution_count": null,
      "outputs": []
    },
    {
      "cell_type": "code",
      "metadata": {
        "id": "5xrDN-eep3q-",
        "colab_type": "code",
        "colab": {}
      },
      "source": [
        "myclass*3"
      ],
      "execution_count": null,
      "outputs": []
    },
    {
      "cell_type": "code",
      "metadata": {
        "id": "GG0oIELyp3rM",
        "colab_type": "code",
        "colab": {}
      },
      "source": [
        "\"Speed Limit \"+ 65"
      ],
      "execution_count": null,
      "outputs": []
    },
    {
      "cell_type": "code",
      "metadata": {
        "id": "AXj2trsHp3rQ",
        "colab_type": "code",
        "colab": {}
      },
      "source": [
        "\"Speed Limit \"+ str(65)"
      ],
      "execution_count": null,
      "outputs": []
    },
    {
      "cell_type": "markdown",
      "metadata": {
        "id": "zWNdf47ep3rU",
        "colab_type": "text"
      },
      "source": [
        "## **Additional Core Python Data Types**\n",
        "- **list**:  Ordered Array\n",
        "- **tuple**: Ordered Immutable Array\n",
        "- **dict**: Unordered list of keys and values"
      ]
    },
    {
      "cell_type": "markdown",
      "metadata": {
        "id": "fd29tzYwp3rU",
        "colab_type": "text"
      },
      "source": [
        "### **List**\n",
        "\n",
        "The Python lists are positionally ordered collection of aribitrarily typed objects with no fixed size. They are also mutable, meaning lists can be modified. They provide a very flexible tool for representing aribitrary collections such as lists of files, emplyees in a company, emails in your inbox, and so on. "
      ]
    },
    {
      "cell_type": "code",
      "metadata": {
        "id": "ifg7bTmap3rV",
        "colab_type": "code",
        "colab": {}
      },
      "source": [
        "a = [] # one way to create empty list\n",
        "type(a)"
      ],
      "execution_count": null,
      "outputs": []
    },
    {
      "cell_type": "code",
      "metadata": {
        "id": "XR3VCOSep3rY",
        "colab_type": "code",
        "colab": {}
      },
      "source": [
        "a = list()  # another way to create empty list\n",
        "type(a)"
      ],
      "execution_count": null,
      "outputs": []
    },
    {
      "cell_type": "code",
      "metadata": {
        "id": "nhEWNdoZp3ra",
        "colab_type": "code",
        "colab": {}
      },
      "source": [
        "x = [1, 'RWU', 2, 'Bristol', True]\n",
        "type(x)\n",
        "x"
      ],
      "execution_count": null,
      "outputs": []
    },
    {
      "cell_type": "markdown",
      "metadata": {
        "id": "AsjbRHoap3re",
        "colab_type": "text"
      },
      "source": [
        "#### **Basic List Operations**"
      ]
    },
    {
      "cell_type": "code",
      "metadata": {
        "id": "Ku6lFHtGp3rf",
        "colab_type": "code",
        "colab": {}
      },
      "source": [
        "x = [1,2,3]\n",
        "len(x)  # length"
      ],
      "execution_count": null,
      "outputs": []
    },
    {
      "cell_type": "code",
      "metadata": {
        "id": "WhJ38bAkp3ri",
        "colab_type": "code",
        "colab": {}
      },
      "source": [
        "x + [5,6,7] # concatenation"
      ],
      "execution_count": null,
      "outputs": []
    },
    {
      "cell_type": "code",
      "metadata": {
        "id": "p7k2dyXGp3rl",
        "colab_type": "code",
        "colab": {}
      },
      "source": [
        "y = [2, 'Math', 5, \"Data Science\"]\n",
        "\n",
        "x+y"
      ],
      "execution_count": null,
      "outputs": []
    },
    {
      "cell_type": "code",
      "metadata": {
        "id": "Xf_sY88cp3ro",
        "colab_type": "code",
        "colab": {}
      },
      "source": [
        "[\"SPAM\"]*5 # Repetition"
      ],
      "execution_count": null,
      "outputs": []
    },
    {
      "cell_type": "code",
      "metadata": {
        "id": "gn8XTITZp3rr",
        "colab_type": "code",
        "colab": {}
      },
      "source": [
        ""
      ],
      "execution_count": null,
      "outputs": []
    },
    {
      "cell_type": "markdown",
      "metadata": {
        "id": "r8jXs9TQp3rt",
        "colab_type": "text"
      },
      "source": [
        "####  **List Indexing and Slicing**"
      ]
    },
    {
      "cell_type": "code",
      "metadata": {
        "id": "M7QsXCOup3ru",
        "colab_type": "code",
        "colab": {}
      },
      "source": [
        "x = [1, 'RWU', 2, 'Bristol']\n",
        "x[3]"
      ],
      "execution_count": null,
      "outputs": []
    },
    {
      "cell_type": "code",
      "metadata": {
        "id": "jc-x2m45p3rx",
        "colab_type": "code",
        "colab": {}
      },
      "source": [
        "x[1:]"
      ],
      "execution_count": null,
      "outputs": []
    },
    {
      "cell_type": "code",
      "metadata": {
        "id": "Kkn_FHGip3r0",
        "colab_type": "code",
        "colab": {}
      },
      "source": [
        "x[:-1] "
      ],
      "execution_count": null,
      "outputs": []
    },
    {
      "cell_type": "markdown",
      "metadata": {
        "id": "dnAw4QZOp3r2",
        "colab_type": "text"
      },
      "source": [
        "#### **Some Built-in functions on List Object**\n",
        "\n",
        "- extend()\n",
        "\n",
        "- append()\n",
        "\n",
        "- sort()\n",
        "\n",
        "- reverse()\n",
        "\n",
        "- del()\n",
        "- count()\n",
        "- copy()\n",
        "- clear()\n",
        "- remove()\n",
        "- insert(i, X)\n"
      ]
    },
    {
      "cell_type": "code",
      "metadata": {
        "id": "b2GnTUC0p3r3",
        "colab_type": "code",
        "colab": {}
      },
      "source": [
        "x = [1, 'RWU', 2, 'Bristol']\n",
        "x.extend([23,78]) # it changes original variable too\n",
        "x"
      ],
      "execution_count": null,
      "outputs": []
    },
    {
      "cell_type": "code",
      "metadata": {
        "id": "oFXuGb9Up3r5",
        "colab_type": "code",
        "colab": {}
      },
      "source": [
        "a = []\n",
        "\n",
        "a.append(30) # it changes original variable too\n",
        "a  "
      ],
      "execution_count": null,
      "outputs": []
    },
    {
      "cell_type": "code",
      "metadata": {
        "id": "85kDI4Uop3r7",
        "colab_type": "code",
        "colab": {}
      },
      "source": [
        "a.append(\"grade\")\n",
        "a"
      ],
      "execution_count": null,
      "outputs": []
    },
    {
      "cell_type": "code",
      "metadata": {
        "id": "YQSPRc_Pp3r-",
        "colab_type": "code",
        "colab": {}
      },
      "source": [
        "a.append(80)\n",
        "a"
      ],
      "execution_count": null,
      "outputs": []
    },
    {
      "cell_type": "code",
      "metadata": {
        "id": "gcp7gz6Np3sL",
        "colab_type": "code",
        "colab": {}
      },
      "source": [
        "a[0] = 70\n",
        "a"
      ],
      "execution_count": null,
      "outputs": []
    },
    {
      "cell_type": "code",
      "metadata": {
        "id": "krAW5hBIp3sO",
        "colab_type": "code",
        "colab": {}
      },
      "source": [
        "\n",
        "L = [123, 'spam', 1.23]\n"
      ],
      "execution_count": null,
      "outputs": []
    },
    {
      "cell_type": "code",
      "metadata": {
        "id": "krF4Z5Qrp3sP",
        "colab_type": "code",
        "colab": {}
      },
      "source": [
        "del(L[0]) # it changes original variable too\n",
        "\n",
        "L"
      ],
      "execution_count": null,
      "outputs": []
    },
    {
      "cell_type": "code",
      "metadata": {
        "id": "5RuqWkyep3sV",
        "colab_type": "code",
        "colab": {}
      },
      "source": [
        "\n",
        "M = [ 'bb', 'aa', 'cc']\n",
        "M.sort() # it changes  original variable too\n",
        "M "
      ],
      "execution_count": null,
      "outputs": []
    },
    {
      "cell_type": "code",
      "metadata": {
        "id": "G_wbTsFYp3sY",
        "colab_type": "code",
        "colab": {}
      },
      "source": [
        "M.reverse() #it changes original variable too\n",
        "M "
      ],
      "execution_count": null,
      "outputs": []
    },
    {
      "cell_type": "code",
      "metadata": {
        "id": "q1S6bNyvp3sb",
        "colab_type": "code",
        "colab": {}
      },
      "source": [
        "N = M.copy()\n",
        "N"
      ],
      "execution_count": null,
      "outputs": []
    },
    {
      "cell_type": "code",
      "metadata": {
        "id": "QGXtIMv1p3sd",
        "colab_type": "code",
        "colab": {}
      },
      "source": [
        "N.clear()\n",
        "N"
      ],
      "execution_count": null,
      "outputs": []
    },
    {
      "cell_type": "code",
      "metadata": {
        "id": "8sMYwwzop3sf",
        "colab_type": "code",
        "colab": {}
      },
      "source": [
        "M.remove('cc')\n",
        "M"
      ],
      "execution_count": null,
      "outputs": []
    },
    {
      "cell_type": "code",
      "metadata": {
        "id": "7QlHjwH3p3si",
        "colab_type": "code",
        "colab": {}
      },
      "source": [
        "M.insert(0,\"cc\")\n",
        "M"
      ],
      "execution_count": null,
      "outputs": []
    },
    {
      "cell_type": "markdown",
      "metadata": {
        "id": "jZkq8MZep3sn",
        "colab_type": "text"
      },
      "source": [
        "#### **List Iterations and Comprehensions**"
      ]
    },
    {
      "cell_type": "code",
      "metadata": {
        "id": "KYNo-azhp3so",
        "colab_type": "code",
        "colab": {}
      },
      "source": [
        "1 in  [1,2,3] # checking for list membership\n"
      ],
      "execution_count": null,
      "outputs": []
    },
    {
      "cell_type": "code",
      "metadata": {
        "id": "f8vxABqop3sq",
        "colab_type": "code",
        "colab": {}
      },
      "source": [
        "0 in [1,5,9] \n"
      ],
      "execution_count": null,
      "outputs": []
    },
    {
      "cell_type": "code",
      "metadata": {
        "id": "kSIFaGYwp3st",
        "colab_type": "code",
        "colab": {}
      },
      "source": [
        "for x in [1,2,3]: # basic loop operation\n",
        "    print(x)"
      ],
      "execution_count": null,
      "outputs": []
    },
    {
      "cell_type": "code",
      "metadata": {
        "id": "ed7gKDN1p3sw",
        "colab_type": "code",
        "colab": {}
      },
      "source": [
        "squares = [x*2 for x in [1,2,4]] # list comprehensions"
      ],
      "execution_count": null,
      "outputs": []
    },
    {
      "cell_type": "code",
      "metadata": {
        "id": "UFIoKtAGp3sy",
        "colab_type": "code",
        "colab": {}
      },
      "source": [
        "squares"
      ],
      "execution_count": null,
      "outputs": []
    },
    {
      "cell_type": "markdown",
      "metadata": {
        "id": "bLFjhP0Xp3s2",
        "colab_type": "text"
      },
      "source": [
        "#### **Nested Lists and Slicing**"
      ]
    },
    {
      "cell_type": "code",
      "metadata": {
        "id": "_SieT2mVp3s2",
        "colab_type": "code",
        "colab": {}
      },
      "source": [
        "matrix = [[1,2,3], [4,5,6],[7,8,9]]\n",
        "matrix\n"
      ],
      "execution_count": null,
      "outputs": []
    },
    {
      "cell_type": "code",
      "metadata": {
        "id": "h8NkK7Ufp3s5",
        "colab_type": "code",
        "colab": {}
      },
      "source": [
        "matrix[1]"
      ],
      "execution_count": null,
      "outputs": []
    },
    {
      "cell_type": "code",
      "metadata": {
        "id": "gvg21J9xp3s8",
        "colab_type": "code",
        "colab": {}
      },
      "source": [
        "matrix[-1]"
      ],
      "execution_count": null,
      "outputs": []
    },
    {
      "cell_type": "code",
      "metadata": {
        "id": "Z22QOsuQp3s-",
        "colab_type": "code",
        "colab": {}
      },
      "source": [
        "matrix[0][0]"
      ],
      "execution_count": null,
      "outputs": []
    },
    {
      "cell_type": "code",
      "metadata": {
        "id": "tOeT5Rfmp3tB",
        "colab_type": "code",
        "colab": {}
      },
      "source": [
        "matrix[2][0]"
      ],
      "execution_count": null,
      "outputs": []
    },
    {
      "cell_type": "code",
      "metadata": {
        "id": "6YSjyLy9p3tD",
        "colab_type": "code",
        "colab": {}
      },
      "source": [
        "matrix[2][0] = 10\n",
        "matrix"
      ],
      "execution_count": null,
      "outputs": []
    },
    {
      "cell_type": "markdown",
      "metadata": {
        "id": "dBgX4aTTp3tG",
        "colab_type": "text"
      },
      "source": [
        "### **Tuple**\n",
        "\n",
        "Tuples are immutable lists. Pretty much anything you can do to a list that does not involve modifying it, you can do to a tuple. You specify a tuple by using parentheses (or nothing) instead of square brackets.\n"
      ]
    },
    {
      "cell_type": "code",
      "metadata": {
        "id": "4cOpFqrOp3tG",
        "colab_type": "code",
        "colab": {}
      },
      "source": [
        "my_list = [1,2,3]\n",
        "my_tuple = (1,2,3)\n",
        "other_tuple = 2,7\n",
        "\n",
        "my_tuple[0]"
      ],
      "execution_count": null,
      "outputs": []
    },
    {
      "cell_type": "code",
      "metadata": {
        "id": "1_9N5engp3tI",
        "colab_type": "code",
        "colab": {}
      },
      "source": [
        "other_tuple[0]"
      ],
      "execution_count": null,
      "outputs": []
    },
    {
      "cell_type": "code",
      "metadata": {
        "id": "_2m5lZDbp3tL",
        "colab_type": "code",
        "colab": {}
      },
      "source": [
        "my_tuple[0] = 30 # not possible"
      ],
      "execution_count": null,
      "outputs": []
    },
    {
      "cell_type": "code",
      "metadata": {
        "id": "ClWBJFKfp3tP",
        "colab_type": "code",
        "colab": {}
      },
      "source": [
        "my_tuple + (3,4,7,6) #concatenation of tuple"
      ],
      "execution_count": null,
      "outputs": []
    },
    {
      "cell_type": "markdown",
      "metadata": {
        "id": "8ov9_vaVp3tU",
        "colab_type": "text"
      },
      "source": [
        "Tuples are a convenient way to return multiple values from functions. "
      ]
    },
    {
      "cell_type": "code",
      "metadata": {
        "id": "_7LE5SXBp3tU",
        "colab_type": "code",
        "colab": {}
      },
      "source": [
        "def sum_and_product(x,y):\n",
        "    return (x+y), x*y\n",
        "s,p = sum_and_product(3,8)\n",
        "s,p\n",
        "\n"
      ],
      "execution_count": null,
      "outputs": []
    },
    {
      "cell_type": "markdown",
      "metadata": {
        "id": "CReEBIHFp3tW",
        "colab_type": "text"
      },
      "source": [
        "Tuples can also be used for multiple assigment:\n"
      ]
    },
    {
      "cell_type": "code",
      "metadata": {
        "id": "FCgRA0y1p3tX",
        "colab_type": "code",
        "colab": {}
      },
      "source": [
        "x,y = 1,2\n",
        "x,y = y,x # easy way to swap variables in python!\n"
      ],
      "execution_count": null,
      "outputs": []
    },
    {
      "cell_type": "code",
      "metadata": {
        "id": "ss4N-zUip3tY",
        "colab_type": "code",
        "colab": {}
      },
      "source": [
        "T = () # an empty tuple\n",
        "type(T)"
      ],
      "execution_count": null,
      "outputs": []
    },
    {
      "cell_type": "code",
      "metadata": {
        "id": "SZrhmceJp3ta",
        "colab_type": "code",
        "colab": {}
      },
      "source": [
        "T = (0, \"Ni\", 1.2, 3)\n",
        "T"
      ],
      "execution_count": null,
      "outputs": []
    },
    {
      "cell_type": "code",
      "metadata": {
        "id": "hyk0kp5fp3td",
        "colab_type": "code",
        "colab": {}
      },
      "source": [
        "T*3"
      ],
      "execution_count": null,
      "outputs": []
    },
    {
      "cell_type": "code",
      "metadata": {
        "id": "u99QBTzSp3tf",
        "colab_type": "code",
        "colab": {}
      },
      "source": [
        "T[0]"
      ],
      "execution_count": null,
      "outputs": []
    },
    {
      "cell_type": "code",
      "metadata": {
        "id": "uTUzvVyLp3th",
        "colab_type": "code",
        "colab": {}
      },
      "source": [
        "T[2] + T[3]"
      ],
      "execution_count": null,
      "outputs": []
    },
    {
      "cell_type": "code",
      "metadata": {
        "id": "gdasQ2xdp3tj",
        "colab_type": "code",
        "colab": {}
      },
      "source": [
        "for i in T: \n",
        "  print(i)"
      ],
      "execution_count": null,
      "outputs": []
    },
    {
      "cell_type": "code",
      "metadata": {
        "id": "93fxIlBYp3tl",
        "colab_type": "code",
        "colab": {}
      },
      "source": [
        "[x*2 for x in T]"
      ],
      "execution_count": null,
      "outputs": []
    },
    {
      "cell_type": "code",
      "metadata": {
        "id": "NyE1y-gvp3tr",
        "colab_type": "code",
        "colab": {}
      },
      "source": [
        ""
      ],
      "execution_count": null,
      "outputs": []
    },
    {
      "cell_type": "markdown",
      "metadata": {
        "id": "jmeWpfQpp3tt",
        "colab_type": "text"
      },
      "source": [
        "### **Dictionary**\n",
        "\n",
        "Dictionaries are unordered and changeable collections of Python objects. In Python, dictionaries are written with curly brackets, and they have **keys** and **values**."
      ]
    },
    {
      "cell_type": "code",
      "metadata": {
        "id": "LbF8V95Cp3tu",
        "colab_type": "code",
        "colab": {}
      },
      "source": [
        "my_dict = {\"name\":\"John\", \"grade\": 90, \"subject\": \"Mathmatical  Software\"}\n",
        "my_dict"
      ],
      "execution_count": null,
      "outputs": []
    },
    {
      "cell_type": "code",
      "metadata": {
        "id": "Uh8p8egVp3tv",
        "colab_type": "code",
        "colab": {}
      },
      "source": [
        "type(my_dict)"
      ],
      "execution_count": null,
      "outputs": []
    },
    {
      "cell_type": "code",
      "metadata": {
        "id": "WTJv0memp3tx",
        "colab_type": "code",
        "colab": {}
      },
      "source": [
        "my_dict[\"name\"]"
      ],
      "execution_count": null,
      "outputs": []
    },
    {
      "cell_type": "code",
      "metadata": {
        "id": "U0dbtjJPp3tz",
        "colab_type": "code",
        "colab": {}
      },
      "source": [
        "my_dict.items()"
      ],
      "execution_count": null,
      "outputs": []
    },
    {
      "cell_type": "code",
      "metadata": {
        "id": "JsPMLswgp3t1",
        "colab_type": "code",
        "colab": {}
      },
      "source": [
        "my_dict.keys()"
      ],
      "execution_count": null,
      "outputs": []
    },
    {
      "cell_type": "code",
      "metadata": {
        "id": "y1RJsFs3p3t5",
        "colab_type": "code",
        "colab": {}
      },
      "source": [
        "my_dict.values()"
      ],
      "execution_count": null,
      "outputs": []
    },
    {
      "cell_type": "code",
      "metadata": {
        "id": "hawFDcEJp3t8",
        "colab_type": "code",
        "colab": {}
      },
      "source": [
        "D = {} # one way to create an empty dictionary\n",
        "type(D)"
      ],
      "execution_count": null,
      "outputs": []
    },
    {
      "cell_type": "code",
      "metadata": {
        "id": "1bUJq3Spp3t_",
        "colab_type": "code",
        "colab": {}
      },
      "source": [
        "D = dict() # another way to create an empty dictionary\n",
        "type(D)"
      ],
      "execution_count": null,
      "outputs": []
    },
    {
      "cell_type": "code",
      "metadata": {
        "id": "_W9dAhjgp3uA",
        "colab_type": "code",
        "colab": {}
      },
      "source": [
        "D['name'] = \"Josh\"\n",
        "D['job'] = \"Data engineer\"\n",
        "D['age'] = 20\n",
        "D"
      ],
      "execution_count": null,
      "outputs": []
    },
    {
      "cell_type": "code",
      "metadata": {
        "id": "oIpS8wQap3uK",
        "colab_type": "code",
        "colab": {}
      },
      "source": [
        "for k in D.keys(): \n",
        "    print(k)"
      ],
      "execution_count": null,
      "outputs": []
    },
    {
      "cell_type": "code",
      "metadata": {
        "id": "vPF94y9fp3uM",
        "colab_type": "code",
        "colab": {}
      },
      "source": [
        "for k,v in D.items():\n",
        "    print(k,v)"
      ],
      "execution_count": null,
      "outputs": []
    },
    {
      "cell_type": "code",
      "metadata": {
        "id": "zRGvpsRPp3uO",
        "colab_type": "code",
        "colab": {}
      },
      "source": [
        ""
      ],
      "execution_count": null,
      "outputs": []
    },
    {
      "cell_type": "markdown",
      "metadata": {
        "id": "yAI6wiEKp3uZ",
        "colab_type": "text"
      },
      "source": [
        "#### **Creatig Disctionay from List using Zip function**"
      ]
    },
    {
      "cell_type": "code",
      "metadata": {
        "id": "kfUzKKOap3uZ",
        "colab_type": "code",
        "colab": {}
      },
      "source": [
        "dict(zip(['a', 'b', 'c'], [1,2,3])) # zip together keys and values"
      ],
      "execution_count": null,
      "outputs": []
    },
    {
      "cell_type": "code",
      "metadata": {
        "id": "dwkS0ewbp3ue",
        "colab_type": "code",
        "colab": {}
      },
      "source": [
        "D = {k:v for (k,v) in zip(['a','b', 'c'], [1,2,3])}\n",
        "D\n"
      ],
      "execution_count": null,
      "outputs": []
    },
    {
      "cell_type": "markdown",
      "metadata": {
        "id": "Ehljq1j7p3uf",
        "colab_type": "text"
      },
      "source": [
        "## **Writing User Defined Functions in Python**\n",
        "Creating new functions in Python is easy. We use function to maximize code reuse and minimize redundancy.\n"
      ]
    },
    {
      "cell_type": "code",
      "metadata": {
        "id": "-x2hw-23p3ug",
        "colab_type": "code",
        "colab": {}
      },
      "source": [
        "def find_sum(x = 20,y = 10): # function definition\n",
        "    return x+y\n",
        "\n",
        "find_sum(40,200) # function calls"
      ],
      "execution_count": null,
      "outputs": []
    },
    {
      "cell_type": "code",
      "metadata": {
        "id": "QCoDhIxep3ui",
        "colab_type": "code",
        "colab": {}
      },
      "source": [
        "def fahrenheit(T):\n",
        "    return (9/5)*T + 32\n",
        "\n",
        "def celsius(T):\n",
        "    return (5/9)*(T-32)\n"
      ],
      "execution_count": null,
      "outputs": []
    },
    {
      "cell_type": "code",
      "metadata": {
        "id": "TVO5KsLSp3uj",
        "colab_type": "code",
        "colab": {}
      },
      "source": [
        "celsius(32)"
      ],
      "execution_count": null,
      "outputs": []
    },
    {
      "cell_type": "code",
      "metadata": {
        "id": "QQoeE70Bp3uk",
        "colab_type": "code",
        "colab": {}
      },
      "source": [
        "fahrenheit(0)"
      ],
      "execution_count": null,
      "outputs": []
    },
    {
      "cell_type": "markdown",
      "metadata": {
        "id": "BcApcM0WCISK",
        "colab_type": "text"
      },
      "source": [
        "#### **Lambda function**"
      ]
    },
    {
      "cell_type": "code",
      "metadata": {
        "id": "a3U43dWPp3um",
        "colab_type": "code",
        "colab": {}
      },
      "source": [
        "add = lambda x, y : x + y"
      ],
      "execution_count": null,
      "outputs": []
    },
    {
      "cell_type": "code",
      "metadata": {
        "id": "8cGOzqPgp3uo",
        "colab_type": "code",
        "colab": {}
      },
      "source": [
        "add(4,8)"
      ],
      "execution_count": null,
      "outputs": []
    },
    {
      "cell_type": "code",
      "metadata": {
        "id": "nG2whNXVp3uq",
        "colab_type": "code",
        "colab": {}
      },
      "source": [
        "fahrenheit =  lambda x: (9/5)*x + 32\n",
        "celsius = lambda x:  (5/9)*(x-32)\n",
        "\n"
      ],
      "execution_count": null,
      "outputs": []
    },
    {
      "cell_type": "code",
      "metadata": {
        "id": "t7of2aAbp3us",
        "colab_type": "code",
        "colab": {}
      },
      "source": [
        "fahrenheit(45)"
      ],
      "execution_count": null,
      "outputs": []
    },
    {
      "cell_type": "code",
      "metadata": {
        "id": "H9g0iBJmp3uu",
        "colab_type": "code",
        "colab": {}
      },
      "source": [
        ""
      ],
      "execution_count": null,
      "outputs": []
    },
    {
      "cell_type": "markdown",
      "metadata": {
        "id": "5SbEB7lwp3uw",
        "colab_type": "text"
      },
      "source": [
        "## **Built in Math Library**\n"
      ]
    },
    {
      "cell_type": "code",
      "metadata": {
        "id": "ddGHjGtTp3ux",
        "colab_type": "code",
        "colab": {}
      },
      "source": [
        "import math\n"
      ],
      "execution_count": null,
      "outputs": []
    },
    {
      "cell_type": "markdown",
      "metadata": {
        "id": "5GjMYudpp3u0",
        "colab_type": "text"
      },
      "source": [
        "\n",
        "#### **Basic Math Functions in Python**\n",
        "- fabs(x)\n",
        "- ceil(x)\n",
        "- floor(x)\n",
        "- exp(x)\n",
        "- log(x)# natural logarithm\n",
        "- log10(x)\n",
        "- max(x1, x2,...)\n",
        "- pow(x, y)\n",
        "- round(x [,n]) # round to n digits from the decimal points\n",
        "- sqrt(x)\n",
        "- sin(x)\n",
        "- cos(x)\n",
        "- tan(x)\n",
        "\n",
        "\n"
      ]
    },
    {
      "cell_type": "code",
      "metadata": {
        "id": "omb4_AlWp3u1",
        "colab_type": "code",
        "colab": {}
      },
      "source": [
        "abs(-4.8)"
      ],
      "execution_count": null,
      "outputs": []
    },
    {
      "cell_type": "code",
      "metadata": {
        "id": "vTf3b7Wqp3u3",
        "colab_type": "code",
        "colab": {}
      },
      "source": [
        "math.fabs(-4.8)"
      ],
      "execution_count": null,
      "outputs": []
    },
    {
      "cell_type": "code",
      "metadata": {
        "id": "v8r46K_6p3u5",
        "colab_type": "code",
        "colab": {}
      },
      "source": [
        "math.ceil(-4.6)"
      ],
      "execution_count": null,
      "outputs": []
    },
    {
      "cell_type": "code",
      "metadata": {
        "id": "ZlQbwd1dp3u6",
        "colab_type": "code",
        "colab": {}
      },
      "source": [
        "math.log(8) # natural log\n"
      ],
      "execution_count": null,
      "outputs": []
    },
    {
      "cell_type": "code",
      "metadata": {
        "id": "NTlwHLBPp3u8",
        "colab_type": "code",
        "colab": {}
      },
      "source": [
        "math.pow(2,3)"
      ],
      "execution_count": null,
      "outputs": []
    },
    {
      "cell_type": "code",
      "metadata": {
        "id": "qF8GhW_wp3u9",
        "colab_type": "code",
        "colab": {}
      },
      "source": [
        "round(3.413894, 3)"
      ],
      "execution_count": null,
      "outputs": []
    },
    {
      "cell_type": "code",
      "metadata": {
        "id": "OSeDX6ORp3u_",
        "colab_type": "code",
        "colab": {}
      },
      "source": [
        "math.sqrt(9)"
      ],
      "execution_count": null,
      "outputs": []
    },
    {
      "cell_type": "code",
      "metadata": {
        "id": "R2z71qUDp3vD",
        "colab_type": "code",
        "colab": {}
      },
      "source": [
        "math.sin(math.pi/2)\n"
      ],
      "execution_count": null,
      "outputs": []
    },
    {
      "cell_type": "code",
      "metadata": {
        "id": "qxACOnRpp3vH",
        "colab_type": "code",
        "colab": {}
      },
      "source": [
        "math.tan(math.pi/4)"
      ],
      "execution_count": null,
      "outputs": []
    },
    {
      "cell_type": "markdown",
      "metadata": {
        "id": "V-BkSO1yp3vI",
        "colab_type": "text"
      },
      "source": [
        "## **Generating Random Numbers in Python**"
      ]
    },
    {
      "cell_type": "code",
      "metadata": {
        "id": "9cbu2FOdp3vI",
        "colab_type": "code",
        "colab": {}
      },
      "source": [
        "import random\n",
        "a = random.random( ) # creates random number between 0 and 1\n",
        "a"
      ],
      "execution_count": null,
      "outputs": []
    },
    {
      "cell_type": "code",
      "metadata": {
        "id": "8kPMbfa_p3vK",
        "colab_type": "code",
        "colab": {}
      },
      "source": [
        "b = random.uniform(1, 7) # creates a random number between 1 and 7 from uniform distribution\n",
        "b"
      ],
      "execution_count": null,
      "outputs": []
    },
    {
      "cell_type": "code",
      "metadata": {
        "id": "rR0CCVL2p3vM",
        "colab_type": "code",
        "colab": {}
      },
      "source": [
        "c = random.randint(1, 10) # creates a random integer between 1 and 10\n",
        "c\n"
      ],
      "execution_count": null,
      "outputs": []
    },
    {
      "cell_type": "code",
      "metadata": {
        "id": "Ot-_e5yyp3vO",
        "colab_type": "code",
        "colab": {}
      },
      "source": [
        "items = [1, 2, 3, 4, 5, 6, 7,8,9]\n",
        "random.shuffle(items) # random reshuffling\n",
        "items"
      ],
      "execution_count": null,
      "outputs": []
    },
    {
      "cell_type": "code",
      "metadata": {
        "id": "F-QcSDYGp3vP",
        "colab_type": "code",
        "colab": {}
      },
      "source": [
        "random.sample([1, 2, 3, 4, 5,6,7,8],  4) # random sampling from given list"
      ],
      "execution_count": null,
      "outputs": []
    },
    {
      "cell_type": "code",
      "metadata": {
        "id": "QWIfm619p3vR",
        "colab_type": "code",
        "colab": {}
      },
      "source": [
        ""
      ],
      "execution_count": null,
      "outputs": []
    },
    {
      "cell_type": "markdown",
      "metadata": {
        "id": "xwM2pVuop3vS",
        "colab_type": "text"
      },
      "source": [
        "## **Conditional Statements**\n",
        "\n",
        "### **if else statement**\n",
        "\n"
      ]
    },
    {
      "cell_type": "code",
      "metadata": {
        "id": "D-fJUrsep3vS",
        "colab_type": "code",
        "colab": {}
      },
      "source": [
        "x = 10;\n",
        "if x > 0:\n",
        "    print(\"x is positive\")\n",
        "    "
      ],
      "execution_count": null,
      "outputs": []
    },
    {
      "cell_type": "code",
      "metadata": {
        "id": "HsrtC7tgp3vT",
        "colab_type": "code",
        "colab": {}
      },
      "source": [
        "grade = 50;\n",
        "if grade >= 60:\n",
        "    print(\"You passed this class\")\n",
        "else:\n",
        "    print(\"Sorry you are failed! Please repeate this course in the next semester!\")\n",
        "    "
      ],
      "execution_count": null,
      "outputs": []
    },
    {
      "cell_type": "markdown",
      "metadata": {
        "id": "K88eHGYcp3vV",
        "colab_type": "text"
      },
      "source": [
        "### **Chained Conditional Statements**"
      ]
    },
    {
      "cell_type": "code",
      "metadata": {
        "id": "zTgrBJvrp3vV",
        "colab_type": "code",
        "colab": {}
      },
      "source": [
        "x = 2; y = 8\n",
        "if x < y:\n",
        "    print(\"x is less than y\")\n",
        "elif(x > y):\n",
        "    print(\"x is greater than y\")\n",
        "else:\n",
        "    print(\"x and y are equal\")\n",
        "    "
      ],
      "execution_count": null,
      "outputs": []
    },
    {
      "cell_type": "code",
      "metadata": {
        "id": "BqUuh1mLp3vX",
        "colab_type": "code",
        "colab": {}
      },
      "source": [
        "grade = 66\n",
        "\n",
        "if grade >= 90:\n",
        "    print(\"A\")\n",
        "elif grade >= 80:\n",
        "    print(\"B\")\n",
        "elif grade >= 70:\n",
        "    print(\"C\")\n",
        "elif grade >=60: \n",
        "    print(\"D\")\n",
        "else:\n",
        "    print(\"Sorry you are failled in this class\")\n",
        "    "
      ],
      "execution_count": null,
      "outputs": []
    },
    {
      "cell_type": "markdown",
      "metadata": {
        "id": "bHNDxHUnp3vY",
        "colab_type": "text"
      },
      "source": [
        "### **Nested Conditional Statements**"
      ]
    },
    {
      "cell_type": "code",
      "metadata": {
        "id": "jOSbtBF8p3vY",
        "colab_type": "code",
        "colab": {}
      },
      "source": [
        "if x == y:\n",
        "    print(\"x and y are equal\")\n",
        "else:\n",
        "    if x< y:\n",
        "        print (\"x is less than y\")\n",
        "    else:\n",
        "        print(\"x is greater than y\")"
      ],
      "execution_count": null,
      "outputs": []
    },
    {
      "cell_type": "markdown",
      "metadata": {
        "id": "WimayMSQp3va",
        "colab_type": "text"
      },
      "source": [
        "## **Loop Operations in Python**\n",
        "\n",
        " "
      ]
    },
    {
      "cell_type": "markdown",
      "metadata": {
        "id": "rAPyH_KhNzoX",
        "colab_type": "text"
      },
      "source": [
        "### **for loop**"
      ]
    },
    {
      "cell_type": "code",
      "metadata": {
        "id": "X3NnbyW9p3va",
        "colab_type": "code",
        "colab": {}
      },
      "source": [
        "for i in [1,2,3,4,5,6]:\n",
        "    print(i)"
      ],
      "execution_count": null,
      "outputs": []
    },
    {
      "cell_type": "code",
      "metadata": {
        "id": "ysPE4xT1p3vd",
        "colab_type": "code",
        "colab": {}
      },
      "source": [
        ""
      ],
      "execution_count": null,
      "outputs": []
    },
    {
      "cell_type": "markdown",
      "metadata": {
        "id": "3UoisIgMp3vg",
        "colab_type": "text"
      },
      "source": [
        "### **range function**\n",
        "range(stop)\n",
        "\n",
        "range(start, stop, step)"
      ]
    },
    {
      "cell_type": "code",
      "metadata": {
        "id": "ng3lGu8dp3vg",
        "colab_type": "code",
        "colab": {}
      },
      "source": [
        "for counter in range(6):\n",
        "    print(counter)"
      ],
      "execution_count": null,
      "outputs": []
    },
    {
      "cell_type": "code",
      "metadata": {
        "id": "n-MGz1Wrp3vj",
        "colab_type": "code",
        "colab": {}
      },
      "source": [
        "for counter in range(1,6):\n",
        "    print(counter)"
      ],
      "execution_count": null,
      "outputs": []
    },
    {
      "cell_type": "code",
      "metadata": {
        "id": "aLYj7COEp3vl",
        "colab_type": "code",
        "colab": {}
      },
      "source": [
        "for counter in range(1,6,2):\n",
        "    print(counter)"
      ],
      "execution_count": null,
      "outputs": []
    },
    {
      "cell_type": "code",
      "metadata": {
        "id": "31VprYKyNP1V",
        "colab_type": "code",
        "colab": {}
      },
      "source": [
        "\n",
        "[x**2 for x in range(0, 8, 2)]"
      ],
      "execution_count": null,
      "outputs": []
    },
    {
      "cell_type": "markdown",
      "metadata": {
        "id": "2Tcoco55p3vm",
        "colab_type": "text"
      },
      "source": [
        "###  **While Loop**"
      ]
    },
    {
      "cell_type": "code",
      "metadata": {
        "id": "Id4yM37Ap3vn",
        "colab_type": "code",
        "colab": {}
      },
      "source": [
        "counter = 0\n",
        "while counter < 6:\n",
        "    print(counter)\n",
        "    counter += 1\n",
        "    "
      ],
      "execution_count": null,
      "outputs": []
    },
    {
      "cell_type": "markdown",
      "metadata": {
        "id": "Oo02VtKohCjb",
        "colab_type": "text"
      },
      "source": [
        "## **Formating in Python**\n",
        "\n"
      ]
    },
    {
      "cell_type": "code",
      "metadata": {
        "id": "eULK00CHhi1X",
        "colab_type": "code",
        "colab": {}
      },
      "source": [
        "print(\"pi =%d\" % (3.14159))\n",
        "#print(\"pi =%.2f\" % (3.14159))\n",
        "#print(\"pi =%.4f\" % (3.14159))\n",
        "#print(\"pi =%s\" % (3.14159))\n",
        "#print('{:}, {:.2f}, {:s}'.format(26, 3.141593, \"python\"))\n",
        "\n"
      ],
      "execution_count": null,
      "outputs": []
    },
    {
      "cell_type": "markdown",
      "metadata": {
        "id": "1-7pbU_rhsIA",
        "colab_type": "text"
      },
      "source": [
        "### **Formating Date Time**"
      ]
    },
    {
      "cell_type": "code",
      "metadata": {
        "id": "CcKoABr9hqc4",
        "colab_type": "code",
        "colab": {}
      },
      "source": [
        "import datetime\n",
        "d = datetime.datetime(2010, 7, 4, 12, 15, 58)\n",
        "'{:%Y-%m-%d %H:%M:%S}'.format(d)"
      ],
      "execution_count": null,
      "outputs": []
    },
    {
      "cell_type": "markdown",
      "metadata": {
        "id": "8P2hc9exf4P3",
        "colab_type": "text"
      },
      "source": [
        "## **File I/O**"
      ]
    },
    {
      "cell_type": "markdown",
      "metadata": {
        "id": "HpNcCP9sp3vp",
        "colab_type": "text"
      },
      "source": [
        " ### **Raw Input in Python**"
      ]
    },
    {
      "cell_type": "code",
      "metadata": {
        "id": "qD7onOCGp3vp",
        "colab_type": "code",
        "colab": {}
      },
      "source": [
        "name = input(\"Tell me your name: \")\n",
        "print(\"Hello \" + name + \"!\")\n",
        "age = input(\"How old are you? \")\n",
        "print(\"You are \" + age + \" years old, \" + name + \"!\")"
      ],
      "execution_count": null,
      "outputs": []
    },
    {
      "cell_type": "code",
      "metadata": {
        "id": "uZtbKk8Mp3vq",
        "colab_type": "code",
        "colab": {}
      },
      "source": [
        "a = input(\"Enter your grade: \")"
      ],
      "execution_count": null,
      "outputs": []
    },
    {
      "cell_type": "code",
      "metadata": {
        "id": "z_hCdaMVp3vs",
        "colab_type": "code",
        "colab": {}
      },
      "source": [
        "a + 45 # input will be taken as characters"
      ],
      "execution_count": null,
      "outputs": []
    },
    {
      "cell_type": "code",
      "metadata": {
        "id": "Sp2DCbEzp3vu",
        "colab_type": "code",
        "colab": {}
      },
      "source": [
        "float(a) + 45"
      ],
      "execution_count": null,
      "outputs": []
    },
    {
      "cell_type": "markdown",
      "metadata": {
        "id": "Fz-WxeqIiCbE",
        "colab_type": "text"
      },
      "source": [
        "### **Reading/Writing Files in Python**\n",
        "\n",
        "We will discuss about this topics in upcomming Notebooks. See the following liks for references:\n",
        "\n",
        "- [Files I/O](https://www.tutorialspoint.com/python/python_files_io.htm)\n",
        "- [Reading and Writing in Python](https://www.geeksforgeeks.org/reading-writing-text-files-python/)\n",
        "\n",
        "\n"
      ]
    },
    {
      "cell_type": "markdown",
      "metadata": {
        "id": "inlcl7czlheG",
        "colab_type": "text"
      },
      "source": [
        "\n",
        "## **References**\n",
        "\n",
        "\n",
        "There are several resourses available to study python, including the following online turorials.\n",
        "\n",
        "- [Python Documentation](https://docs.python.org/3/tutorial/)\n",
        "- [Tutorialpoint](https://www.tutorialspoint.com/python/python_overview.htm)\n"
      ]
    },
    {
      "cell_type": "code",
      "metadata": {
        "id": "kVmtOyGiiu7C",
        "colab_type": "code",
        "colab": {}
      },
      "source": [
        ""
      ],
      "execution_count": null,
      "outputs": []
    }
  ]
}