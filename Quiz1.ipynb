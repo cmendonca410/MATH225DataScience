{
  "nbformat": 4,
  "nbformat_minor": 0,
  "metadata": {
    "colab": {
      "name": "Quiz1.ipynb",
      "provenance": [],
      "collapsed_sections": [],
      "include_colab_link": true
    },
    "kernelspec": {
      "display_name": "Python 3",
      "language": "python",
      "name": "python3"
    },
    "language_info": {
      "codemirror_mode": {
        "name": "ipython",
        "version": 3
      },
      "file_extension": ".py",
      "mimetype": "text/x-python",
      "name": "python",
      "nbconvert_exporter": "python",
      "pygments_lexer": "ipython3",
      "version": "3.8.3"
    }
  },
  "cells": [
    {
      "cell_type": "markdown",
      "metadata": {
        "id": "view-in-github",
        "colab_type": "text"
      },
      "source": [
        "<a href=\"https://colab.research.google.com/github/cmendonca410/MATH225DataScience/blob/master/Quiz1.ipynb\" target=\"_parent\"><img src=\"https://colab.research.google.com/assets/colab-badge.svg\" alt=\"Open In Colab\"/></a>"
      ]
    },
    {
      "cell_type": "markdown",
      "metadata": {
        "colab_type": "text",
        "id": "cT99hSTLhYRq"
      },
      "source": [
        "# **Quiz 1: Data Science Toolbox**\n",
        "\n",
        "**Prepared by**: Dr. Hum Nath Bhandari\n",
        "\n",
        "**Institution**: Roger Williams University\n",
        "\n",
        "**Department**: Mathematics Department\n",
        "\n",
        "**Student Name**: Corey Mendonca\n",
        "\n",
        "\n",
        "### **Learning Outcome**\n",
        "\n",
        "In this quiz you will be tested for your understanding of software installations and files management.\n",
        "\n",
        "\n",
        "\n",
        "\n",
        "\n"
      ]
    },
    {
      "cell_type": "markdown",
      "metadata": {
        "colab_type": "text",
        "id": "f6f0xQEGgIiR"
      },
      "source": [
        ""
      ]
    },
    {
      "cell_type": "markdown",
      "metadata": {
        "colab_type": "text",
        "id": "sxlexYASjWX0"
      },
      "source": [
        "**Question 1**: \n",
        "- Download this Quiz and save into your local machine inside **Data Science** folder (you created this folder during my class). \n",
        "- Open the Quiz by using Jupyter notebook (Jupyter comes with anaconda installation). \n",
        "- Complete the first cell of this notebook by writing your name. \n"
      ]
    },
    {
      "cell_type": "code",
      "metadata": {
        "colab_type": "code",
        "id": "l8IrmDgE5pER",
        "colab": {}
      },
      "source": [
        ""
      ],
      "execution_count": null,
      "outputs": []
    },
    {
      "cell_type": "markdown",
      "metadata": {
        "colab_type": "text",
        "id": "_E-qk2w01sTd"
      },
      "source": [
        "Corey Mendonca"
      ]
    },
    {
      "cell_type": "code",
      "metadata": {
        "colab_type": "code",
        "id": "uVEq_5SB1pzz",
        "colab": {}
      },
      "source": [
        ""
      ],
      "execution_count": null,
      "outputs": []
    },
    {
      "cell_type": "markdown",
      "metadata": {
        "colab_type": "text",
        "id": "7G5X58t_1qJC"
      },
      "source": [
        ""
      ]
    },
    {
      "cell_type": "markdown",
      "metadata": {
        "colab_type": "text",
        "id": "B4XeFkUt0VL0"
      },
      "source": [
        "**Question 2**: Write a **Hello world** python program  below.  "
      ]
    },
    {
      "cell_type": "code",
      "metadata": {
        "colab_type": "code",
        "id": "CHMgPHgp10eC",
        "colab": {
          "base_uri": "https://localhost:8080/",
          "height": 34
        },
        "outputId": "943e3afc-3177-49cc-89ff-973ba89ba87d"
      },
      "source": [
        "print(\"Hello world\")"
      ],
      "execution_count": null,
      "outputs": [
        {
          "output_type": "stream",
          "text": [
            "Hello world\n"
          ],
          "name": "stdout"
        }
      ]
    },
    {
      "cell_type": "code",
      "metadata": {
        "colab_type": "code",
        "id": "Gu5kXPjHrmIo",
        "colab": {}
      },
      "source": [
        "print(\"Hello World!\")"
      ],
      "execution_count": null,
      "outputs": []
    },
    {
      "cell_type": "markdown",
      "metadata": {
        "colab_type": "text",
        "id": "nzT-Pb7P1JYo"
      },
      "source": [
        "**Question 3**: Create a python script file, called **my_first_file.py** using editor of spyder and write a python program to print: \"Welcome to data science class!\". Take a screenshot of the result from your program and insert the screenshot picture in the following cell. See [here](https://www.youtube.com/watch?v=Vw1EZh1My8s) for the guidelines of importing picture in notebook.\n"
      ]
    },
    {
      "cell_type": "code",
      "metadata": {
        "id": "zCnA19PEn-Oq",
        "colab_type": "code",
        "colab": {
          "base_uri": "https://localhost:8080/",
          "height": 51
        },
        "outputId": "5f9b48de-0e56-42d1-ea25-16fd13e0d761"
      },
      "source": [
        "![](Quiz1Question3.jpg)"
      ],
      "execution_count": 2,
      "outputs": [
        {
          "output_type": "stream",
          "text": [
            "/bin/bash: -c: line 0: syntax error near unexpected token `Quiz1Question3.jpg'\n",
            "/bin/bash: -c: line 0: `[](Quiz1Question3.jpg)'\n"
          ],
          "name": "stdout"
        }
      ]
    },
    {
      "cell_type": "markdown",
      "metadata": {
        "colab_type": "text",
        "id": "gXw1QQcU2F5S"
      },
      "source": [
        "![](\"Quiz1Question3.jpg\")"
      ]
    },
    {
      "cell_type": "markdown",
      "metadata": {
        "colab_type": "text",
        "id": "qLzdZSYqhQ52"
      },
      "source": [
        "**Question 4**: After you are done upto **Question 3**, copy your quiz from your local machine to Google Drive and put into **Data Science** folder (I assume you created this folder based on our discussions in the class). Now open the file using Google Colab. Write a python program below to print: \"Welcome back from Google Colab!\". Provide a link of Colab url below. \n",
        "\n",
        "\n",
        "\n"
      ]
    },
    {
      "cell_type": "code",
      "metadata": {
        "id": "9j_cpfYioRvS",
        "colab_type": "code",
        "colab": {
          "base_uri": "https://localhost:8080/",
          "height": 34
        },
        "outputId": "2e70920a-1035-4b7d-f457-6d8e7c1f54de"
      },
      "source": [
        "print(\"Welcome back from Google Colab!\")"
      ],
      "execution_count": 5,
      "outputs": [
        {
          "output_type": "stream",
          "text": [
            "Welcome back from Google Colab!\n"
          ],
          "name": "stdout"
        }
      ]
    },
    {
      "cell_type": "markdown",
      "metadata": {
        "colab_type": "text",
        "id": "9ZnqFXPw8hk1"
      },
      "source": [
        "**Question 5**: After you are done with **Question 4**, save a copy of this quiz in Github inside **Data \n",
        "Science** folder which you had created based on our class discussion.\n"
      ]
    },
    {
      "cell_type": "code",
      "metadata": {
        "colab_type": "code",
        "id": "J_NeS4oo_1mb",
        "colab": {
          "base_uri": "https://localhost:8080/",
          "height": 51
        },
        "outputId": "e56b6ed6-e716-4a7b-b55a-f75d499f72e6"
      },
      "source": [
        "print(\"I have saved this to Github:cmendonca410/MATH225DataScience\")\n",
        "print(\"The link is: https://github.com/cmendonca410/MATH225DataScience\")"
      ],
      "execution_count": 8,
      "outputs": [
        {
          "output_type": "stream",
          "text": [
            "I have saved this to Github:cmendonca410/MATH225DataScience\n",
            "The link is: https://github.com/cmendonca410/MATH225DataScience\n"
          ],
          "name": "stdout"
        }
      ]
    },
    {
      "cell_type": "markdown",
      "metadata": {
        "colab_type": "text",
        "id": "ULgrcXkZ_Dzi"
      },
      "source": [
        "\n",
        "**Question 6**: Provide a GitHub url of this quiz in the following cell. "
      ]
    },
    {
      "cell_type": "code",
      "metadata": {
        "id": "7emw6SfTov7I",
        "colab_type": "code",
        "colab": {
          "base_uri": "https://localhost:8080/",
          "height": 34
        },
        "outputId": "a73c6a38-16e8-48f6-9a7b-813f15cc7bfc"
      },
      "source": [
        "print(\"https://github.com/cmendonca410/MATH225DataScience\")"
      ],
      "execution_count": 13,
      "outputs": [
        {
          "output_type": "stream",
          "text": [
            "https://github.com/cmendonca410/MATH225DataScience\n"
          ],
          "name": "stdout"
        }
      ]
    },
    {
      "cell_type": "markdown",
      "metadata": {
        "colab_type": "text",
        "id": "QSNh2TSUOceZ"
      },
      "source": [
        "**Quiestion 7**: Provide the same GitHub url on bridges."
      ]
    },
    {
      "cell_type": "code",
      "metadata": {
        "colab_type": "code",
        "id": "2RZNArgw7xNy",
        "colab": {
          "base_uri": "https://localhost:8080/",
          "height": 34
        },
        "outputId": "13c78412-ac85-4afb-b89f-5ce2f219259d"
      },
      "source": [
        "print(\"I have put the URL to this quiz on my Github repository in Bridges!\")"
      ],
      "execution_count": 11,
      "outputs": [
        {
          "output_type": "stream",
          "text": [
            "I have put the URL to this quiz on my Github repository in Bridges!\n"
          ],
          "name": "stdout"
        }
      ]
    },
    {
      "cell_type": "code",
      "metadata": {
        "colab_type": "code",
        "id": "ehRrf4XcAbb1",
        "colab": {
          "base_uri": "https://localhost:8080/",
          "height": 34
        },
        "outputId": "adfa0e5a-73b6-4a8a-d90f-e4ff7543fdf6"
      },
      "source": [
        "print(\"End Quiz.\")"
      ],
      "execution_count": 10,
      "outputs": [
        {
          "output_type": "stream",
          "text": [
            "End Quiz.\n"
          ],
          "name": "stdout"
        }
      ]
    }
  ]
}